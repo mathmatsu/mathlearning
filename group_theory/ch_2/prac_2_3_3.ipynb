{
 "cells": [
  {
   "cell_type": "markdown",
   "metadata": {},
   "source": [
    "**2.3.3** 例 2.3.10 の $U(n) \\subset GL_n(\\mathbb{C})$ が部分群であることを証明せよ.  \n",
    "<br>\n",
    "\n",
    "$g \\in GL_n(\\mathbb{C})$ のすべての成分の複素共役をとり転置した行列を$g^\\ast$とする.  \n",
    "$I_n$ を n 次の単位行列とすると、$I_n^{\\ast}=I_n$ となり $I_n^{\\ast}I_n=I_n$ なので $I_n \\in U(n)$ である.  \n",
    "$\\forall g,h \\in U(n)$ ならば $(gh)^{\\ast}(gh) = h^{\\ast}g^{\\ast}gh = h^{\\ast}I_nh = h^{\\ast}h = I_n$ なので $gh \\in U(n)$ である.  \n",
    "$U(n)$ の定義より、$g^{\\ast}=g^{-1}$ なので $(g^{-1})^{\\ast}g^{-1} = (g^{\\ast})^{\\ast}g^{-1} = gg^{-1} = In$ となり $g^{-1} \\in U(n)$ である.   \n",
    "命題 2.3.2 により、$U(n)$ は $GL_n(\\mathbb{C})$ の部分群である."
   ]
  }
 ],
 "metadata": {
  "language_info": {
   "name": "python"
  },
  "orig_nbformat": 4
 },
 "nbformat": 4,
 "nbformat_minor": 2
}
